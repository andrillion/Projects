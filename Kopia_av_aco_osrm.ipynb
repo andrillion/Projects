{
  "cells": [
    {
      "cell_type": "markdown",
      "metadata": {
        "id": "view-in-github",
        "colab_type": "text"
      },
      "source": [
        "<a href=\"https://colab.research.google.com/github/andrillion/travel-site/blob/master/Kopia_av_aco_osrm.ipynb\" target=\"_parent\"><img src=\"https://colab.research.google.com/assets/colab-badge.svg\" alt=\"Open In Colab\"/></a>"
      ]
    },
    {
      "cell_type": "markdown",
      "metadata": {
        "id": "I5-9RrVomOq4"
      },
      "source": [
        "# ACO for the Traveling Salesman Problem\n",
        "\n",
        "0. Install packages\n",
        "1. Creating the ACO algorithm\n",
        "2. Plot optimal tour on map with Folium\n",
        "3. Plot progress over iterations"
      ]
    },
    {
      "cell_type": "markdown",
      "metadata": {
        "id": "GJZBMMG6mOq6"
      },
      "source": [
        "## 0. Install packages"
      ]
    },
    {
      "cell_type": "code",
      "execution_count": null,
      "metadata": {
        "id": "JRJuCDYYmOq7",
        "outputId": "1bbc2508-cb42-4e74-98e7-43d0028d2e2e"
      },
      "outputs": [
        {
          "name": "stdout",
          "output_type": "stream",
          "text": [
            "/anaconda3/bin/python\n"
          ]
        }
      ],
      "source": [
        "import sys\n",
        "print(sys.executable)\n"
      ]
    },
    {
      "cell_type": "code",
      "execution_count": null,
      "metadata": {
        "id": "u2yZn9azmOq9",
        "outputId": "9eddf8a9-85cc-4868-9934-64690fb38f41"
      },
      "outputs": [
        {
          "name": "stdout",
          "output_type": "stream",
          "text": [
            "Requirement already satisfied: geopy in /anaconda3/lib/python3.7/site-packages (2.4.1)\r\n",
            "Requirement already satisfied: geographiclib<3,>=1.52 in /anaconda3/lib/python3.7/site-packages (from geopy) (2.0)\r\n"
          ]
        }
      ],
      "source": [
        "!{sys.executable} -m pip install geopy\n"
      ]
    },
    {
      "cell_type": "code",
      "execution_count": null,
      "metadata": {
        "id": "oFzjkMrWmOq9",
        "outputId": "c127ebfa-c278-41c2-b5bc-63eb49048190"
      },
      "outputs": [
        {
          "name": "stdout",
          "output_type": "stream",
          "text": [
            "Requirement already satisfied: requests in /anaconda3/lib/python3.7/site-packages (2.22.0)\n",
            "Requirement already satisfied: certifi>=2017.4.17 in /anaconda3/lib/python3.7/site-packages (from requests) (2019.11.28)\n",
            "Requirement already satisfied: urllib3!=1.25.0,!=1.25.1,<1.26,>=1.21.1 in /anaconda3/lib/python3.7/site-packages (from requests) (1.25.7)\n",
            "Requirement already satisfied: idna<2.9,>=2.5 in /anaconda3/lib/python3.7/site-packages (from requests) (2.8)\n",
            "Requirement already satisfied: chardet<3.1.0,>=3.0.2 in /anaconda3/lib/python3.7/site-packages (from requests) (3.0.4)\n"
          ]
        }
      ],
      "source": [
        "!{sys.executable} -m pip install requests"
      ]
    },
    {
      "cell_type": "code",
      "execution_count": null,
      "metadata": {
        "id": "-i7VETjPmOq9",
        "outputId": "aac9bc24-0ee4-455a-f405-8bcde5d58bf1"
      },
      "outputs": [
        {
          "name": "stdout",
          "output_type": "stream",
          "text": [
            "Requirement already satisfied: polyline in /anaconda3/lib/python3.7/site-packages (2.0.1)\r\n"
          ]
        }
      ],
      "source": [
        "!{sys.executable} -m pip install polyline"
      ]
    },
    {
      "cell_type": "code",
      "execution_count": null,
      "metadata": {
        "id": "wBA1RBqHmOq9",
        "outputId": "d9cb9791-74ef-4090-c87b-2645e682bc02"
      },
      "outputs": [
        {
          "name": "stdout",
          "output_type": "stream",
          "text": [
            "Requirement already satisfied: folium in /anaconda3/lib/python3.7/site-packages (0.15.1)\n",
            "Requirement already satisfied: branca>=0.6.0 in /anaconda3/lib/python3.7/site-packages (from folium) (0.7.0)\n",
            "Requirement already satisfied: numpy in /anaconda3/lib/python3.7/site-packages (from folium) (1.18.0)\n",
            "Requirement already satisfied: requests in /anaconda3/lib/python3.7/site-packages (from folium) (2.22.0)\n",
            "Requirement already satisfied: jinja2>=2.9 in /anaconda3/lib/python3.7/site-packages (from folium) (2.11.2)\n",
            "Requirement already satisfied: xyzservices in /anaconda3/lib/python3.7/site-packages (from folium) (2023.2.0)\n",
            "Requirement already satisfied: urllib3!=1.25.0,!=1.25.1,<1.26,>=1.21.1 in /anaconda3/lib/python3.7/site-packages (from requests->folium) (1.25.7)\n",
            "Requirement already satisfied: certifi>=2017.4.17 in /anaconda3/lib/python3.7/site-packages (from requests->folium) (2019.11.28)\n",
            "Requirement already satisfied: idna<2.9,>=2.5 in /anaconda3/lib/python3.7/site-packages (from requests->folium) (2.8)\n",
            "Requirement already satisfied: chardet<3.1.0,>=3.0.2 in /anaconda3/lib/python3.7/site-packages (from requests->folium) (3.0.4)\n",
            "Requirement already satisfied: MarkupSafe>=0.23 in /anaconda3/lib/python3.7/site-packages (from jinja2>=2.9->folium) (1.1.0)\n"
          ]
        }
      ],
      "source": [
        "!{sys.executable} -m pip install folium"
      ]
    },
    {
      "cell_type": "markdown",
      "metadata": {
        "id": "2Jq9Eg-1mOq-"
      },
      "source": [
        "## 1. Creating the ACO algorithm"
      ]
    },
    {
      "cell_type": "code",
      "execution_count": null,
      "metadata": {
        "id": "EgD9nhE2mOq-",
        "outputId": "13b8b6c1-7176-422e-c224-bdc45ba25fe6"
      },
      "outputs": [
        {
          "name": "stdout",
          "output_type": "stream",
          "text": [
            "Processing distance between Gamla Stan and Vasa Museum\n",
            "s}aiJiphmBe@Bq@P[[B]{@qF]e@w@oFBi@AICICKCKAICKEQSXML}E`G[`@M@G?G?wFw@MEY??c@AWEiAGmAEk@IW_CgEyBsDEEICK?IJKZITQ\\SRA@KDODM?KAA?SM[UIIKOSg@AEK[?KCQEYEe@?C?M?Y@WD[D[VwAv@oEBKF[tAwHFi@H{@@{@C}DAkB@s@?}@?kBC}@G{E]{ZE_FAwAEmEAK?MAeALQFGd@YdBw@d@Ox@MBVBr@Jx@DHHTZZj@\\FD|@T^LZP\n",
            "Processing distance between Gamla Stan and Skansen\n",
            "s}aiJiphmBe@Bq@P[[B]{@qF]e@w@oFBi@AICICKCKAICKEQSXML}E`G[`@M@G?G?wFw@MEY??c@AWEiAGmAEk@IW_CgEyBsDEEICK?IJKZITQ\\SRA@KDODM?KAA?SM[UIIKOSg@AEK[?KCQEYEe@?C?M?Y@WD[D[VwAv@oEBKF[tAwHFi@H{@@{@C}DAkB@s@?}@?kBC}@G{E]{ZE_FAwAEmEAK?MAeALQFGd@YdBw@d@Ox@MBVBr@Jx@DHHTZZj@\\FD|@T^LZP\n",
            "Processing distance between Gamla Stan and Royal Palace\n",
            "s}aiJiphmBe@Bq@P[[B]{@qF]e@w@oFBi@AICICKCKAICKEQSXML}E`G[`@M@G?G?wFw@MEY??c@AWEiAGmAEk@IW_CgEyBsDEEICK?IJKZITQ\\SRA@KDODM?KAA?SM[UIIKOSg@AEK[?KCQEYEe@?C?M?Y@WD[D[VwAv@oEBKF[tAwHFi@H{@@{@C}DAkB@s@?}@?kBC}@G{E]{ZE_FAwAEmEAK?MAeALQFGd@YdBw@d@Ox@MBVBr@Jx@DHHTZZj@\\FD|@T^LZP\n",
            "Processing distance between Gamla Stan and Djurgarden\n"
          ]
        },
        {
          "ename": "JSONDecodeError",
          "evalue": "Expecting value: line 1 column 1 (char 0)",
          "output_type": "error",
          "traceback": [
            "\u001b[0;31m---------------------------------------------------------------------------\u001b[0m",
            "\u001b[0;31mJSONDecodeError\u001b[0m                           Traceback (most recent call last)",
            "\u001b[0;32m<ipython-input-6-e4aebf736d63>\u001b[0m in \u001b[0;36m<module>\u001b[0;34m\u001b[0m\n\u001b[1;32m    155\u001b[0m \u001b[0;31m# Script execution\u001b[0m\u001b[0;34m\u001b[0m\u001b[0;34m\u001b[0m\u001b[0;34m\u001b[0m\u001b[0m\n\u001b[1;32m    156\u001b[0m \u001b[0mnum_cities\u001b[0m \u001b[0;34m=\u001b[0m \u001b[0mlen\u001b[0m\u001b[0;34m(\u001b[0m\u001b[0mstockholm_locations\u001b[0m\u001b[0;34m)\u001b[0m\u001b[0;34m\u001b[0m\u001b[0;34m\u001b[0m\u001b[0m\n\u001b[0;32m--> 157\u001b[0;31m \u001b[0mdistance_matrix\u001b[0m\u001b[0;34m,\u001b[0m \u001b[0mroute_geometries\u001b[0m \u001b[0;34m=\u001b[0m \u001b[0mgenerate_city_distances_and_routes\u001b[0m\u001b[0;34m(\u001b[0m\u001b[0mstockholm_locations\u001b[0m\u001b[0;34m)\u001b[0m\u001b[0;34m\u001b[0m\u001b[0;34m\u001b[0m\u001b[0m\n\u001b[0m\u001b[1;32m    158\u001b[0m \u001b[0;34m\u001b[0m\u001b[0m\n\u001b[1;32m    159\u001b[0m aco = AntColonyOptimizer(\n",
            "\u001b[0;32m<ipython-input-6-e4aebf736d63>\u001b[0m in \u001b[0;36mgenerate_city_distances_and_routes\u001b[0;34m(locations)\u001b[0m\n\u001b[1;32m    115\u001b[0m \u001b[0;34m\u001b[0m\u001b[0m\n\u001b[1;32m    116\u001b[0m                 \u001b[0mresponse\u001b[0m \u001b[0;34m=\u001b[0m \u001b[0mrequests\u001b[0m\u001b[0;34m.\u001b[0m\u001b[0mget\u001b[0m\u001b[0;34m(\u001b[0m\u001b[0;34mf\"http://router.project-osrm.org/route/v1/driving/{coords_i[1]},{coords_i[0]};{coords_j[1]},{coords_j[0]}?overview=full\"\u001b[0m\u001b[0;34m)\u001b[0m\u001b[0;34m\u001b[0m\u001b[0;34m\u001b[0m\u001b[0m\n\u001b[0;32m--> 117\u001b[0;31m                 \u001b[0mdata\u001b[0m \u001b[0;34m=\u001b[0m \u001b[0mresponse\u001b[0m\u001b[0;34m.\u001b[0m\u001b[0mjson\u001b[0m\u001b[0;34m(\u001b[0m\u001b[0;34m)\u001b[0m\u001b[0;34m\u001b[0m\u001b[0;34m\u001b[0m\u001b[0m\n\u001b[0m\u001b[1;32m    118\u001b[0m                 \u001b[0mdistance\u001b[0m \u001b[0;34m=\u001b[0m \u001b[0mdata\u001b[0m\u001b[0;34m[\u001b[0m\u001b[0;34m'routes'\u001b[0m\u001b[0;34m]\u001b[0m\u001b[0;34m[\u001b[0m\u001b[0;36m0\u001b[0m\u001b[0;34m]\u001b[0m\u001b[0;34m[\u001b[0m\u001b[0;34m'distance'\u001b[0m\u001b[0;34m]\u001b[0m \u001b[0;34m/\u001b[0m \u001b[0;36m1000\u001b[0m  \u001b[0;31m# Convert meters to kilometers\u001b[0m\u001b[0;34m\u001b[0m\u001b[0;34m\u001b[0m\u001b[0m\n\u001b[1;32m    119\u001b[0m                 \u001b[0mdistance_matrix\u001b[0m\u001b[0;34m[\u001b[0m\u001b[0mi\u001b[0m\u001b[0;34m]\u001b[0m\u001b[0;34m[\u001b[0m\u001b[0mj\u001b[0m\u001b[0;34m]\u001b[0m \u001b[0;34m=\u001b[0m \u001b[0mdistance\u001b[0m\u001b[0;34m\u001b[0m\u001b[0;34m\u001b[0m\u001b[0m\n",
            "\u001b[0;32m/anaconda3/lib/python3.7/site-packages/requests/models.py\u001b[0m in \u001b[0;36mjson\u001b[0;34m(self, **kwargs)\u001b[0m\n\u001b[1;32m    895\u001b[0m                     \u001b[0;31m# used.\u001b[0m\u001b[0;34m\u001b[0m\u001b[0;34m\u001b[0m\u001b[0;34m\u001b[0m\u001b[0m\n\u001b[1;32m    896\u001b[0m                     \u001b[0;32mpass\u001b[0m\u001b[0;34m\u001b[0m\u001b[0;34m\u001b[0m\u001b[0m\n\u001b[0;32m--> 897\u001b[0;31m         \u001b[0;32mreturn\u001b[0m \u001b[0mcomplexjson\u001b[0m\u001b[0;34m.\u001b[0m\u001b[0mloads\u001b[0m\u001b[0;34m(\u001b[0m\u001b[0mself\u001b[0m\u001b[0;34m.\u001b[0m\u001b[0mtext\u001b[0m\u001b[0;34m,\u001b[0m \u001b[0;34m**\u001b[0m\u001b[0mkwargs\u001b[0m\u001b[0;34m)\u001b[0m\u001b[0;34m\u001b[0m\u001b[0;34m\u001b[0m\u001b[0m\n\u001b[0m\u001b[1;32m    898\u001b[0m \u001b[0;34m\u001b[0m\u001b[0m\n\u001b[1;32m    899\u001b[0m     \u001b[0;34m@\u001b[0m\u001b[0mproperty\u001b[0m\u001b[0;34m\u001b[0m\u001b[0;34m\u001b[0m\u001b[0m\n",
            "\u001b[0;32m/anaconda3/lib/python3.7/site-packages/simplejson/__init__.py\u001b[0m in \u001b[0;36mloads\u001b[0;34m(s, encoding, cls, object_hook, parse_float, parse_int, parse_constant, object_pairs_hook, use_decimal, **kw)\u001b[0m\n\u001b[1;32m    523\u001b[0m             \u001b[0mparse_constant\u001b[0m \u001b[0;32mis\u001b[0m \u001b[0;32mNone\u001b[0m \u001b[0;32mand\u001b[0m \u001b[0mobject_pairs_hook\u001b[0m \u001b[0;32mis\u001b[0m \u001b[0;32mNone\u001b[0m\u001b[0;34m\u001b[0m\u001b[0;34m\u001b[0m\u001b[0m\n\u001b[1;32m    524\u001b[0m             and not use_decimal and not kw):\n\u001b[0;32m--> 525\u001b[0;31m         \u001b[0;32mreturn\u001b[0m \u001b[0m_default_decoder\u001b[0m\u001b[0;34m.\u001b[0m\u001b[0mdecode\u001b[0m\u001b[0;34m(\u001b[0m\u001b[0ms\u001b[0m\u001b[0;34m)\u001b[0m\u001b[0;34m\u001b[0m\u001b[0;34m\u001b[0m\u001b[0m\n\u001b[0m\u001b[1;32m    526\u001b[0m     \u001b[0;32mif\u001b[0m \u001b[0mcls\u001b[0m \u001b[0;32mis\u001b[0m \u001b[0;32mNone\u001b[0m\u001b[0;34m:\u001b[0m\u001b[0;34m\u001b[0m\u001b[0;34m\u001b[0m\u001b[0m\n\u001b[1;32m    527\u001b[0m         \u001b[0mcls\u001b[0m \u001b[0;34m=\u001b[0m \u001b[0mJSONDecoder\u001b[0m\u001b[0;34m\u001b[0m\u001b[0;34m\u001b[0m\u001b[0m\n",
            "\u001b[0;32m/anaconda3/lib/python3.7/site-packages/simplejson/decoder.py\u001b[0m in \u001b[0;36mdecode\u001b[0;34m(self, s, _w, _PY3)\u001b[0m\n\u001b[1;32m    368\u001b[0m         \u001b[0;32mif\u001b[0m \u001b[0m_PY3\u001b[0m \u001b[0;32mand\u001b[0m \u001b[0misinstance\u001b[0m\u001b[0;34m(\u001b[0m\u001b[0ms\u001b[0m\u001b[0;34m,\u001b[0m \u001b[0mbytes\u001b[0m\u001b[0;34m)\u001b[0m\u001b[0;34m:\u001b[0m\u001b[0;34m\u001b[0m\u001b[0;34m\u001b[0m\u001b[0m\n\u001b[1;32m    369\u001b[0m             \u001b[0ms\u001b[0m \u001b[0;34m=\u001b[0m \u001b[0mstr\u001b[0m\u001b[0;34m(\u001b[0m\u001b[0ms\u001b[0m\u001b[0;34m,\u001b[0m \u001b[0mself\u001b[0m\u001b[0;34m.\u001b[0m\u001b[0mencoding\u001b[0m\u001b[0;34m)\u001b[0m\u001b[0;34m\u001b[0m\u001b[0;34m\u001b[0m\u001b[0m\n\u001b[0;32m--> 370\u001b[0;31m         \u001b[0mobj\u001b[0m\u001b[0;34m,\u001b[0m \u001b[0mend\u001b[0m \u001b[0;34m=\u001b[0m \u001b[0mself\u001b[0m\u001b[0;34m.\u001b[0m\u001b[0mraw_decode\u001b[0m\u001b[0;34m(\u001b[0m\u001b[0ms\u001b[0m\u001b[0;34m)\u001b[0m\u001b[0;34m\u001b[0m\u001b[0;34m\u001b[0m\u001b[0m\n\u001b[0m\u001b[1;32m    371\u001b[0m         \u001b[0mend\u001b[0m \u001b[0;34m=\u001b[0m \u001b[0m_w\u001b[0m\u001b[0;34m(\u001b[0m\u001b[0ms\u001b[0m\u001b[0;34m,\u001b[0m \u001b[0mend\u001b[0m\u001b[0;34m)\u001b[0m\u001b[0;34m.\u001b[0m\u001b[0mend\u001b[0m\u001b[0;34m(\u001b[0m\u001b[0;34m)\u001b[0m\u001b[0;34m\u001b[0m\u001b[0;34m\u001b[0m\u001b[0m\n\u001b[1;32m    372\u001b[0m         \u001b[0;32mif\u001b[0m \u001b[0mend\u001b[0m \u001b[0;34m!=\u001b[0m \u001b[0mlen\u001b[0m\u001b[0;34m(\u001b[0m\u001b[0ms\u001b[0m\u001b[0;34m)\u001b[0m\u001b[0;34m:\u001b[0m\u001b[0;34m\u001b[0m\u001b[0;34m\u001b[0m\u001b[0m\n",
            "\u001b[0;32m/anaconda3/lib/python3.7/site-packages/simplejson/decoder.py\u001b[0m in \u001b[0;36mraw_decode\u001b[0;34m(self, s, idx, _w, _PY3)\u001b[0m\n\u001b[1;32m    398\u001b[0m             \u001b[0;32melif\u001b[0m \u001b[0mord0\u001b[0m \u001b[0;34m==\u001b[0m \u001b[0;36m0xef\u001b[0m \u001b[0;32mand\u001b[0m \u001b[0ms\u001b[0m\u001b[0;34m[\u001b[0m\u001b[0midx\u001b[0m\u001b[0;34m:\u001b[0m\u001b[0midx\u001b[0m \u001b[0;34m+\u001b[0m \u001b[0;36m3\u001b[0m\u001b[0;34m]\u001b[0m \u001b[0;34m==\u001b[0m \u001b[0;34m'\\xef\\xbb\\xbf'\u001b[0m\u001b[0;34m:\u001b[0m\u001b[0;34m\u001b[0m\u001b[0;34m\u001b[0m\u001b[0m\n\u001b[1;32m    399\u001b[0m                 \u001b[0midx\u001b[0m \u001b[0;34m+=\u001b[0m \u001b[0;36m3\u001b[0m\u001b[0;34m\u001b[0m\u001b[0;34m\u001b[0m\u001b[0m\n\u001b[0;32m--> 400\u001b[0;31m         \u001b[0;32mreturn\u001b[0m \u001b[0mself\u001b[0m\u001b[0;34m.\u001b[0m\u001b[0mscan_once\u001b[0m\u001b[0;34m(\u001b[0m\u001b[0ms\u001b[0m\u001b[0;34m,\u001b[0m \u001b[0midx\u001b[0m\u001b[0;34m=\u001b[0m\u001b[0m_w\u001b[0m\u001b[0;34m(\u001b[0m\u001b[0ms\u001b[0m\u001b[0;34m,\u001b[0m \u001b[0midx\u001b[0m\u001b[0;34m)\u001b[0m\u001b[0;34m.\u001b[0m\u001b[0mend\u001b[0m\u001b[0;34m(\u001b[0m\u001b[0;34m)\u001b[0m\u001b[0;34m)\u001b[0m\u001b[0;34m\u001b[0m\u001b[0;34m\u001b[0m\u001b[0m\n\u001b[0m",
            "\u001b[0;31mJSONDecodeError\u001b[0m: Expecting value: line 1 column 1 (char 0)"
          ]
        }
      ],
      "source": [
        "import numpy as np\n",
        "import random\n",
        "import requests\n",
        "import polyline\n",
        "from geopy.distance import great_circle\n",
        "\n",
        "class AntColonyOptimizer:\n",
        "    def __init__(self, num_cities, num_ants, evaporation_rate, alpha, beta, initial_pheromone, max_iterations):\n",
        "        self.num_cities = num_cities\n",
        "        self.num_ants = num_ants\n",
        "        self.evaporation_rate = evaporation_rate\n",
        "        self.alpha = alpha  # Pheromone importance\n",
        "        self.beta = beta    # Distance importance\n",
        "        self.pheromone_matrix = np.full((num_cities, num_cities), initial_pheromone)\n",
        "        self.distance_matrix = None  # To be initialized separately\n",
        "        self.max_iterations = max_iterations\n",
        "\n",
        "    def initialize_distance_matrix(self, distances):\n",
        "        self.distance_matrix = distances\n",
        "\n",
        "    def run(self):\n",
        "        best_tour = None\n",
        "        best_length = float('inf')\n",
        "        length_history = []  # Initialize length history\n",
        "\n",
        "        for iteration in range(self.max_iterations):\n",
        "            print(f\"Starting iteration {iteration + 1}/{self.max_iterations}\")\n",
        "\n",
        "            all_tours = self.construct_solution()\n",
        "            self.update_pheromones(all_tours)\n",
        "\n",
        "            for tour in all_tours:\n",
        "                length = self.calculate_tour_length(tour)\n",
        "                if length < best_length:\n",
        "                    best_length = length\n",
        "                    best_tour = tour\n",
        "\n",
        "            length_history.append(best_length)  # Record the best length of this iteration\n",
        "\n",
        "        return best_tour, best_length, length_history\n",
        "\n",
        "    def construct_solution(self):\n",
        "        all_tours = []\n",
        "        for _ in range(self.num_ants):\n",
        "            tour = self.build_ant_tour()\n",
        "            all_tours.append(tour)\n",
        "        return all_tours\n",
        "\n",
        "    def build_ant_tour(self):\n",
        "        tour = []\n",
        "        visited = set()\n",
        "        current_city = random.randint(0, self.num_cities - 1)\n",
        "        tour.append(current_city)\n",
        "        visited.add(current_city)\n",
        "\n",
        "        for _ in range(self.num_cities - 1):\n",
        "            next_city = self.select_next_city(current_city, visited)\n",
        "            tour.append(next_city)\n",
        "            visited.add(next_city)\n",
        "            current_city = next_city\n",
        "\n",
        "        return tour\n",
        "\n",
        "    def select_next_city(self, current_city, visited):\n",
        "        probabilities = []\n",
        "        for city in range(self.num_cities):\n",
        "            if city not in visited:\n",
        "                trail = self.pheromone_matrix[current_city][city] ** self.alpha\n",
        "                visibility = (1.0 / (self.distance_matrix[current_city][city] + 1e-8)) ** self.beta\n",
        "                probabilities.append(trail * visibility)\n",
        "            else:\n",
        "                probabilities.append(0)\n",
        "\n",
        "        probabilities = np.array(probabilities) / np.sum(probabilities)\n",
        "        next_city = np.random.choice(self.num_cities, p=probabilities)\n",
        "        return next_city\n",
        "\n",
        "    def calculate_tour_length(self, tour):\n",
        "        length = 0\n",
        "        for i in range(len(tour) - 1):\n",
        "            length += self.distance_matrix[tour[i]][tour[i+1]]\n",
        "        length += self.distance_matrix[tour[-1]][tour[0]]  # Return to start\n",
        "        return length\n",
        "\n",
        "    def update_pheromones(self, all_tours):\n",
        "        self.evaporate_pheromones()\n",
        "        self.deposit_pheromones(all_tours)\n",
        "\n",
        "    def evaporate_pheromones(self):\n",
        "        self.pheromone_matrix *= (1 - self.evaporation_rate)\n",
        "\n",
        "    def deposit_pheromones(self, all_tours):\n",
        "        for tour in all_tours:\n",
        "            contribution = self.calculate_tour_contribution(tour)\n",
        "            for i in range(len(tour) - 1):\n",
        "                self.pheromone_matrix[tour[i]][tour[i+1]] += contribution\n",
        "\n",
        "    def calculate_tour_contribution(self, tour):\n",
        "        return 1.0 / self.calculate_tour_length(tour)\n",
        "\n",
        "def generate_city_distances_and_routes(locations):\n",
        "    num_cities = len(locations)\n",
        "    distance_matrix = np.zeros((num_cities, num_cities))\n",
        "    route_geometries = {}  # Dictionary to store route geometries\n",
        "    loc_list = list(locations.values())\n",
        "\n",
        "    for i in range(num_cities):\n",
        "        for j in range(num_cities):\n",
        "            if i != j:\n",
        "                coords_i = loc_list[i]\n",
        "                coords_j = loc_list[j]\n",
        "\n",
        "                print(f\"Processing distance between {list(locations.keys())[i]} and {list(locations.keys())[j]}\")\n",
        "\n",
        "\n",
        "                response = requests.get(f\"http://router.project-osrm.org/route/v1/driving/{coords_i[1]},{coords_i[0]};{coords_j[1]},{coords_j[0]}?overview=full\")\n",
        "                data = response.json()\n",
        "                distance = data['routes'][0]['distance'] / 1000  # Convert meters to kilometers\n",
        "                distance_matrix[i][j] = distance\n",
        "                # Extract and store the route geometry\n",
        "                route_geometries[(i, j)] = data['routes'][0]['geometry']\n",
        "                # After obtaining route_geometries from the function\n",
        "                print(next(iter(route_geometries.values())))  # Print the first route geometry as\n",
        "\n",
        "            else:\n",
        "                distance_matrix[i][j] = float('inf')\n",
        "\n",
        "    return distance_matrix, route_geometries\n",
        "\n",
        "# Define locations in Stockholm\n",
        "stockholm_locations = {\n",
        "    \"Gamla Stan\": (59.3251, 18.0711),\n",
        "    \"Vasa Museum\": (59.3294, 18.0915),\n",
        "    \"Skansen\": (59.3257, 18.0961),\n",
        "    \"Royal Palace\": (59.3269, 18.0737),\n",
        "    \"Djurgarden\": (59.3298, 18.1167),\n",
        "    \"Fotografiska\": (59.3177, 18.0844),\n",
        "    \"Gröna Lund\": (59.3230, 18.0963),\n",
        "    \"Moderna Museet\": (59.3263, 18.0846),\n",
        "    \"Stockholm City Hall\": (59.3275, 18.0544),\n",
        "    \"ABBA The Museum\": (59.3240, 18.0962),\n",
        "    \"Nobel Prize Museum\": (59.3247, 18.0707),\n",
        "    \"Stockholm Cathedral\": (59.3258, 18.0709),\n",
        "    \"Nordiska Museet\": (59.3295, 18.0908),\n",
        "    \"Stockholm Olympic Stadium\": (59.3459, 18.0794),\n",
        "    \"Kungstradgarden Park\": (59.3318, 18.0702),\n",
        "    \"Monteliusvagen\": (59.3190, 18.0581),\n",
        "    \"Ostermalm Market Hall\": (59.3350, 18.0776),\n",
        "    \"The Royal Dramatic Theatre\": (59.3308, 18.0735),\n",
        "    \"Humlegarden\": (59.3382, 18.0728),\n",
        "    \"Stortorget\": (59.3248, 18.0704)\n",
        "}\n",
        "\n",
        "\n",
        "# Script execution\n",
        "num_cities = len(stockholm_locations)\n",
        "distance_matrix, route_geometries = generate_city_distances_and_routes(stockholm_locations)\n",
        "\n",
        "aco = AntColonyOptimizer(\n",
        "    num_cities=num_cities,\n",
        "    num_ants=5,\n",
        "    evaporation_rate=0.1,\n",
        "    alpha=1.0,\n",
        "    beta=2.0,\n",
        "    initial_pheromone=0.1,\n",
        "    max_iterations=50\n",
        ")\n",
        "aco.initialize_distance_matrix(distance_matrix)\n",
        "\n",
        "best_tour, best_length, length_history = aco.run()\n",
        "print(\"Best Tour:\", [list(stockholm_locations.keys())[i] for i in best_tour])\n",
        "print(\"Best Length:\", best_length)\n"
      ]
    },
    {
      "cell_type": "code",
      "execution_count": null,
      "metadata": {
        "id": "HqjRyQWBmOrA"
      },
      "outputs": [],
      "source": []
    },
    {
      "cell_type": "code",
      "execution_count": null,
      "metadata": {
        "id": "u_c6U_N0mOrB"
      },
      "outputs": [],
      "source": [
        "import folium\n",
        "import polyline\n",
        "\n",
        "def plot_tour_on_map(tour, locations, route_geometries):\n",
        "    if not tour:\n",
        "        print(\"No tour data available.\")\n",
        "        return None\n",
        "\n",
        "    starting_location = list(locations.keys())[tour[0]]\n",
        "    map = folium.Map(location=locations[starting_location], zoom_start=12)\n",
        "\n",
        "    # Add markers for each location\n",
        "    for loc_name, coords in locations.items():\n",
        "        folium.Marker(coords, popup=loc_name).add_to(map)\n",
        "\n",
        "    # Plot each leg of the journey using the route geometries\n",
        "    for i in range(len(tour) - 1):\n",
        "        start = tour[i]\n",
        "        end = tour[i + 1]\n",
        "\n",
        "        # Diagnostics: Print start and end locations\n",
        "        print(f\"Plotting leg from {list(locations.keys())[start]} to {list(locations.keys())[end]}\")\n",
        "\n",
        "        # Check if the route geometry for this leg exists\n",
        "        if (start, end) in route_geometries:\n",
        "            # Decode the polyline and plot the route\n",
        "            route_coords = polyline.decode(route_geometries[(start, end)], geojson=True)\n",
        "            folium.PolyLine(route_coords, color=\"blue\", weight=2.5, opacity=1).add_to(map)\n",
        "        else:\n",
        "            print(f\"No route geometry found for leg from {list(locations.keys())[start]} to {list(locations.keys())[end]}\")\n",
        "\n",
        "    return map\n",
        "\n",
        "# Assuming 'best_tour', 'stockholm_locations', and 'route_geometries' are available from Part 1\n",
        "tour_map = plot_tour_on_map(best_tour, stockholm_locations, route_geometries)\n",
        "\n",
        "# Save the map to an HTML file and display it\n",
        "if tour_map:\n",
        "    tour_map.save(\"tsp_solution_2024.html\")\n",
        "    display(tour_map)  # Make sure to import display from IPython.display\n",
        "else:\n",
        "    print(\"Failed to create the tour map.\")\n"
      ]
    },
    {
      "cell_type": "code",
      "execution_count": null,
      "metadata": {
        "id": "8bTxPH35mOrB"
      },
      "outputs": [],
      "source": [
        "# Print first few coordinates of the decoded route\n",
        "print(decoded_route[:5])\n"
      ]
    },
    {
      "cell_type": "code",
      "execution_count": null,
      "metadata": {
        "id": "kzVfEcZamOrC"
      },
      "outputs": [],
      "source": [
        "# Sample encoded polyline\n",
        "encoded_polyline = route_geometries.get((best_tour[0], best_tour[1]))\n",
        "\n",
        "# Decode and print the polyline\n",
        "decoded_coords = polyline.decode(encoded_polyline, geojson=True)\n",
        "print(decoded_coords[:5])  # Print first few coordinates\n"
      ]
    },
    {
      "cell_type": "code",
      "execution_count": null,
      "metadata": {
        "id": "GdwZwzlzmOrC"
      },
      "outputs": [],
      "source": [
        "# Check the first few entries in route_geometries\n",
        "for key in list(route_geometries.keys())[:5]:\n",
        "    print(key, polyline.decode(route_geometries[key], geojson=True)[:5])\n"
      ]
    },
    {
      "cell_type": "code",
      "execution_count": null,
      "metadata": {
        "id": "YdDPE_JJmOrC"
      },
      "outputs": [],
      "source": [
        "for i in range(len(best_tour) - 1):\n",
        "    start = best_tour[i]\n",
        "    end = best_tour[i + 1]\n",
        "\n",
        "    if (start, end) in route_geometries:\n",
        "        route_coords = polyline.decode(route_geometries[(start, end)], geojson=True)\n",
        "        folium.PolyLine(route_coords, color=\"blue\", weight=2.5, opacity=1).add_to(map)\n",
        "    else:\n",
        "        print(f\"Route geometry not found for leg: {start} to {end}\")\n"
      ]
    },
    {
      "cell_type": "code",
      "execution_count": null,
      "metadata": {
        "id": "Jw25rySDmOrC"
      },
      "outputs": [],
      "source": [
        "display(map)\n"
      ]
    },
    {
      "cell_type": "code",
      "execution_count": null,
      "metadata": {
        "scrolled": true,
        "id": "q1z-RQx0mOrC"
      },
      "outputs": [],
      "source": []
    },
    {
      "cell_type": "code",
      "execution_count": null,
      "metadata": {
        "id": "vOt0eYOdmOrD"
      },
      "outputs": [],
      "source": []
    },
    {
      "cell_type": "code",
      "execution_count": null,
      "metadata": {
        "id": "j8yGLpqsmOrD"
      },
      "outputs": [],
      "source": []
    },
    {
      "cell_type": "code",
      "execution_count": null,
      "metadata": {
        "id": "BfI_VK0UmOrD"
      },
      "outputs": [],
      "source": []
    },
    {
      "cell_type": "code",
      "execution_count": null,
      "metadata": {
        "id": "NcGYyExhmOrD"
      },
      "outputs": [],
      "source": [
        "import folium\n",
        "import polyline\n",
        "\n",
        "def plot_tour_on_map(tour, locations, route_geometries):\n",
        "    # Check if the tour data is available\n",
        "    if not tour:\n",
        "        print(\"No tour data available.\")\n",
        "        return None\n",
        "\n",
        "    # Starting location for the tour\n",
        "    starting_location = list(locations.keys())[tour[0]]\n",
        "    map = folium.Map(location=locations[starting_location], zoom_start=12)\n",
        "\n",
        "    # Adding markers for each location\n",
        "    for loc_name, coords in locations.items():\n",
        "        folium.Marker(coords, popup=loc_name).add_to(map)\n",
        "\n",
        "    # Plotting each leg of the tour\n",
        "    for i in range(len(tour)):\n",
        "        start = tour[i]\n",
        "        end = tour[(i + 1) % len(tour)]  # Ensure loop back to start\n",
        "\n",
        "        # Decode the polyline and plot the route if geometry exists\n",
        "        if (start, end) in route_geometries:\n",
        "            encoded_polyline = route_geometries[(start, end)]\n",
        "            decoded_coords = polyline.decode(encoded_polyline, geojson=True)\n",
        "            folium.PolyLine(decoded_coords, color=\"blue\", weight=2.5, opacity=10).add_to(map)\n",
        "        else:\n",
        "            print(f\"Missing geometry for tour leg: {start} to {end}\")\n",
        "\n",
        "    return map\n",
        "\n",
        "# Assuming 'best_tour', 'stockholm_locations', and 'route_geometries' are available from Part 1\n",
        "tour_map = plot_tour_on_map(best_tour, stockholm_locations, route_geometries)\n",
        "\n",
        "# Save the map to an HTML file and display it\n",
        "if tour_map:\n",
        "    tour_map.save(\"tsp_solution_2024.html\")\n",
        "    display(tour_map)  # Make sure to import display from IPython.display\n",
        "else:\n",
        "    print(\"Failed to create the tour map.\")\n"
      ]
    },
    {
      "cell_type": "code",
      "execution_count": null,
      "metadata": {
        "id": "CAawIaJkmOrD"
      },
      "outputs": [],
      "source": []
    },
    {
      "cell_type": "code",
      "execution_count": null,
      "metadata": {
        "id": "irXf0J9EmOrD"
      },
      "outputs": [],
      "source": []
    },
    {
      "cell_type": "code",
      "execution_count": null,
      "metadata": {
        "id": "sXJ04cgymOrD"
      },
      "outputs": [],
      "source": []
    },
    {
      "cell_type": "code",
      "execution_count": null,
      "metadata": {
        "id": "TbY4T1Y8mOrE"
      },
      "outputs": [],
      "source": []
    },
    {
      "cell_type": "code",
      "execution_count": null,
      "metadata": {
        "scrolled": true,
        "id": "miNaMzDxmOrE"
      },
      "outputs": [],
      "source": [
        "\n"
      ]
    },
    {
      "cell_type": "code",
      "execution_count": null,
      "metadata": {
        "id": "1yPVd1knmOrE"
      },
      "outputs": [],
      "source": []
    },
    {
      "cell_type": "code",
      "execution_count": null,
      "metadata": {
        "id": "gTVyaB_smOrE"
      },
      "outputs": [],
      "source": []
    },
    {
      "cell_type": "code",
      "execution_count": null,
      "metadata": {
        "id": "oZ-m6X2amOrE"
      },
      "outputs": [],
      "source": []
    },
    {
      "cell_type": "code",
      "execution_count": null,
      "metadata": {
        "id": "izKerI4BmOrE"
      },
      "outputs": [],
      "source": []
    },
    {
      "cell_type": "code",
      "execution_count": null,
      "metadata": {
        "id": "RCKS0NkmmOrE"
      },
      "outputs": [],
      "source": []
    },
    {
      "cell_type": "code",
      "execution_count": null,
      "metadata": {
        "id": "Vj1A2b1wmOrE"
      },
      "outputs": [],
      "source": []
    },
    {
      "cell_type": "code",
      "execution_count": null,
      "metadata": {
        "id": "xovE6IbwmOrE"
      },
      "outputs": [],
      "source": []
    },
    {
      "cell_type": "code",
      "execution_count": null,
      "metadata": {
        "id": "aRZGk0p6mOrE"
      },
      "outputs": [],
      "source": []
    },
    {
      "cell_type": "code",
      "execution_count": null,
      "metadata": {
        "id": "yfdlkZ_YmOrE"
      },
      "outputs": [],
      "source": [
        "\n"
      ]
    },
    {
      "cell_type": "code",
      "execution_count": null,
      "metadata": {
        "id": "eFLhhasDmOrE"
      },
      "outputs": [],
      "source": []
    },
    {
      "cell_type": "code",
      "execution_count": null,
      "metadata": {
        "id": "zmxlJmL3mOrF"
      },
      "outputs": [],
      "source": []
    },
    {
      "cell_type": "code",
      "execution_count": null,
      "metadata": {
        "id": "g5X89pgLmOrF"
      },
      "outputs": [],
      "source": []
    },
    {
      "cell_type": "code",
      "execution_count": null,
      "metadata": {
        "id": "dLketmNAmOrF"
      },
      "outputs": [],
      "source": []
    },
    {
      "cell_type": "code",
      "execution_count": null,
      "metadata": {
        "id": "QkKrVS-0mOrF"
      },
      "outputs": [],
      "source": []
    },
    {
      "cell_type": "code",
      "execution_count": null,
      "metadata": {
        "id": "4upQs0gLmOrF"
      },
      "outputs": [],
      "source": []
    },
    {
      "cell_type": "code",
      "execution_count": null,
      "metadata": {
        "id": "Lq4Dg81YmOrF"
      },
      "outputs": [],
      "source": []
    },
    {
      "cell_type": "code",
      "execution_count": null,
      "metadata": {
        "id": "uleTzwxAmOrG"
      },
      "outputs": [],
      "source": []
    },
    {
      "cell_type": "code",
      "execution_count": null,
      "metadata": {
        "id": "VK4NrYutmOrG"
      },
      "outputs": [],
      "source": []
    },
    {
      "cell_type": "code",
      "execution_count": null,
      "metadata": {
        "id": "Jk68owDPmOrG"
      },
      "outputs": [],
      "source": [
        "import numpy as np\n",
        "import random\n",
        "from geopy.distance import great_circle\n",
        "\n",
        "class AntColonyOptimizer:\n",
        "    def __init__(self, num_cities, num_ants, evaporation_rate, alpha, beta, initial_pheromone, max_iterations):\n",
        "        self.num_cities = num_cities\n",
        "        self.num_ants = num_ants\n",
        "        self.evaporation_rate = evaporation_rate\n",
        "        self.alpha = alpha  # Pheromone importance\n",
        "        self.beta = beta    # Distance importance\n",
        "        self.pheromone_matrix = np.full((num_cities, num_cities), initial_pheromone)\n",
        "        self.distance_matrix = None  # To be initialized separately\n",
        "        self.max_iterations = max_iterations\n",
        "\n",
        "    def initialize_distance_matrix(self, distances):\n",
        "        self.distance_matrix = distances\n",
        "\n",
        "    def run(self):\n",
        "        best_tour = None\n",
        "        best_length = float('inf')\n",
        "        length_history = []  # Initialize length history\n",
        "\n",
        "\n",
        "\n",
        "        for _ in range(self.max_iterations):\n",
        "            all_tours = self.construct_solution()\n",
        "            self.update_pheromones(all_tours)\n",
        "\n",
        "            for tour in all_tours:\n",
        "                length = self.calculate_tour_length(tour)\n",
        "                if length < best_length:\n",
        "                    best_length = length\n",
        "                    best_tour = tour\n",
        "\n",
        "            length_history.append(best_length)  # Record the best length of this iteration\n",
        "\n",
        "\n",
        "        return best_tour, best_length, length_history\n",
        "\n",
        "    def construct_solution(self):\n",
        "        all_tours = []\n",
        "        for _ in range(self.num_ants):\n",
        "            tour = self.build_ant_tour()\n",
        "            all_tours.append(tour)\n",
        "        return all_tours\n",
        "\n",
        "    def build_ant_tour(self):\n",
        "        tour = []\n",
        "        visited = set()\n",
        "        current_city = random.randint(0, self.num_cities - 1)\n",
        "        tour.append(current_city)\n",
        "        visited.add(current_city)\n",
        "\n",
        "        for _ in range(self.num_cities - 1):\n",
        "            next_city = self.select_next_city(current_city, visited)\n",
        "            tour.append(next_city)\n",
        "            visited.add(next_city)\n",
        "            current_city = next_city\n",
        "\n",
        "        return tour\n",
        "\n",
        "    def select_next_city(self, current_city, visited):\n",
        "        probabilities = []\n",
        "        for city in range(self.num_cities):\n",
        "            if city not in visited:\n",
        "                trail = self.pheromone_matrix[current_city][city] ** self.alpha\n",
        "                visibility = (1.0 / self.distance_matrix[current_city][city]) ** self.beta\n",
        "                probabilities.append(trail * visibility)\n",
        "            else:\n",
        "                probabilities.append(0)\n",
        "\n",
        "        probabilities = np.array(probabilities) / np.sum(probabilities)\n",
        "        next_city = np.random.choice(self.num_cities, p=probabilities)\n",
        "        return next_city\n",
        "\n",
        "    def calculate_tour_length(self, tour):\n",
        "        length = 0\n",
        "        for i in range(len(tour) - 1):\n",
        "            length += self.distance_matrix[tour[i]][tour[i+1]]\n",
        "        length += self.distance_matrix[tour[-1]][tour[0]]  # Return to start\n",
        "        return length\n",
        "\n",
        "    def update_pheromones(self, all_tours):\n",
        "        self.evaporate_pheromones()\n",
        "        self.deposit_pheromones(all_tours)\n",
        "\n",
        "    def evaporate_pheromones(self):\n",
        "        self.pheromone_matrix *= (1 - self.evaporation_rate)\n",
        "\n",
        "    def deposit_pheromones(self, all_tours):\n",
        "        for tour in all_tours:\n",
        "            contribution = self.calculate_tour_contribution(tour)\n",
        "            for i in range(len(tour) - 1):\n",
        "                self.pheromone_matrix[tour[i]][tour[i+1]] += contribution\n",
        "\n",
        "    def calculate_tour_contribution(self, tour):\n",
        "        return 1.0 / self.calculate_tour_length(tour)\n",
        "\n",
        "# Define 20 popular locations in Stockholm with their geographical coordinates\n",
        "stockholm_locations = {\n",
        "    \"Gamla Stan\": (59.3251, 18.0711),\n",
        "    \"Vasa Museum\": (59.3294, 18.0915),\n",
        "    \"Skansen\": (59.3257, 18.0961),\n",
        "    \"Royal Palace\": (59.3269, 18.0737),\n",
        "    \"Djurgarden\": (59.3298, 18.1167),\n",
        "    \"Fotografiska\": (59.3177, 18.0844),\n",
        "    \"Gröna Lund\": (59.3230, 18.0963),\n",
        "    \"Moderna Museet\": (59.3263, 18.0846),\n",
        "    \"Stockholm City Hall\": (59.3275, 18.0544),\n",
        "    \"ABBA The Museum\": (59.3240, 18.0962),\n",
        "    \"Nobel Prize Museum\": (59.3247, 18.0707),\n",
        "    \"Stockholm Cathedral\": (59.3258, 18.0709),\n",
        "    \"Nordiska Museet\": (59.3295, 18.0908),\n",
        "    \"Stockholm Olympic Stadium\": (59.3459, 18.0794),\n",
        "    \"Kungstradgarden Park\": (59.3318, 18.0702),\n",
        "    \"Monteliusvagen\": (59.3190, 18.0581),\n",
        "    \"Ostermalm Market Hall\": (59.3350, 18.0776),\n",
        "    \"The Royal Dramatic Theatre\": (59.3308, 18.0735),\n",
        "    \"Humlegarden\": (59.3382, 18.0728),\n",
        "    \"Stortorget\": (59.3248, 18.0704)\n",
        "}\n",
        "\n",
        "\n",
        "def generate_city_distances_and_routes(locations):\n",
        "    num_cities = len(locations)\n",
        "    distance_matrix = np.zeros((num_cities, num_cities))\n",
        "    route_geometries = {}  # Dictionary to store route geometries\n",
        "    loc_list = list(locations.values())\n",
        "\n",
        "    for i in range(num_cities):\n",
        "        for j in range(num_cities):\n",
        "            if i != j:\n",
        "                coords_i = loc_list[i]\n",
        "                coords_j = loc_list[j]\n",
        "                response = requests.get(f\"http://router.project-osrm.org/route/v1/driving/{coords_i[1]},{coords_i[0]};{coords_j[1]},{coords_j[0]}?overview=full\")\n",
        "                data = response.json()\n",
        "                distance = data['routes'][0]['distance'] / 1000  # Convert meters to kilometers\n",
        "                distance_matrix[i][j] = distance\n",
        "                # Extract and store the route geometry\n",
        "                route_geometries[(i, j)] = data['routes'][0]['geometry']\n",
        "            else:\n",
        "                distance_matrix[i][j] = float('inf')\n",
        "\n",
        "    return distance_matrix, route_geometries\n",
        "\n",
        "\n",
        "# Script execution\n",
        "num_cities = len(stockholm_locations)\n",
        "aco = AntColonyOptimizer(\n",
        "    num_cities=num_cities,\n",
        "    num_ants=5,\n",
        "    evaporation_rate=0.1,\n",
        "    alpha=1.0,\n",
        "    beta=2.0,\n",
        "    initial_pheromone=0.1,\n",
        "    max_iterations=100\n",
        ")\n",
        "aco.initialize_distance_matrix(generate_city_distances(stockholm_locations))\n",
        "\n",
        "best_tour, best_length, length_history = aco.run()\n",
        "print(\"Best Tour:\", [list(stockholm_locations.keys())[i] for i in best_tour])\n",
        "print(\"Best Length:\", best_length)\n"
      ]
    },
    {
      "cell_type": "markdown",
      "metadata": {
        "id": "OnV2kSPCmOrG"
      },
      "source": [
        "## 2. Plot optimal tour on map with Folium"
      ]
    },
    {
      "cell_type": "code",
      "execution_count": null,
      "metadata": {
        "id": "O8F0yd4BmOrG"
      },
      "outputs": [],
      "source": [
        "import folium\n",
        "\n",
        "def plot_tour_on_map(tour, locations, starting_location):\n",
        "    # Create a map centered around the starting location\n",
        "    map = folium.Map(location=locations[starting_location], zoom_start=12)\n",
        "\n",
        "    # Add markers for each location\n",
        "    for loc_name, coords in locations.items():\n",
        "        folium.Marker(coords, popup=loc_name).add_to(map)\n",
        "\n",
        "    # Draw lines for the tour\n",
        "    tour_coords = [locations[list(locations.keys())[i]] for i in tour] + [locations[starting_location]]\n",
        "    folium.PolyLine(tour_coords, color=\"blue\", weight=2.5, opacity=1).add_to(map)\n",
        "\n",
        "    return map\n",
        "\n",
        "# Script execution\n",
        "#num_cities = len(stockholm_locations)\n",
        "#aco = AntColonyOptimizer(\n",
        "#    num_cities=num_cities,\n",
        "#    num_ants=5,\n",
        "#    evaporation_rate=0.1,\n",
        "#    alpha=1.0,\n",
        "#    beta=2.0,\n",
        "#    initial_pheromone=0.1,\n",
        "#    max_iterations=100\n",
        "#)\n",
        "#aco.initialize_distance_matrix(generate_city_distances(stockholm_locations))\n",
        "\n",
        "#best_tour, best_length = aco.run()\n",
        "#print(\"Best Tour:\", [list(stockholm_locations.keys())[i] for i in best_tour])\n",
        "#print(\"Best Length:\", best_length)\n",
        "\n",
        "# Plot the tour on the map\n",
        "starting_location = list(stockholm_locations.keys())[best_tour[0]]\n",
        "tour_map = plot_tour_on_map(best_tour, stockholm_locations, starting_location)\n",
        "\n",
        "\n",
        "# Save the map as an HTML file\n",
        "tour_map.save(\"tsp_solution_2024.html\")\n",
        "\n",
        "# Display the map\n",
        "tour_map\n"
      ]
    },
    {
      "cell_type": "markdown",
      "metadata": {
        "id": "yzFn1zO8mOrH"
      },
      "source": [
        "## 3. Plot progress over iterations"
      ]
    },
    {
      "cell_type": "code",
      "execution_count": null,
      "metadata": {
        "id": "XGXW35lrmOrH"
      },
      "outputs": [],
      "source": [
        "import matplotlib.pyplot as plt\n",
        "\n",
        "\n",
        "# Plot optimization progress\n",
        "plt.figure(figsize=(10, 6))\n",
        "plt.plot(length_history, marker='o')\n",
        "plt.title('ACO Optimization Progress')\n",
        "plt.xlabel('Iteration')\n",
        "plt.ylabel('Total Distance of Best Tour')\n",
        "plt.grid(True)\n",
        "plt.show()"
      ]
    },
    {
      "cell_type": "markdown",
      "metadata": {
        "id": "JjOP7Q9jmOrH"
      },
      "source": [
        "## Use OSRM to calculate real world road distances between locations"
      ]
    },
    {
      "cell_type": "code",
      "execution_count": null,
      "metadata": {
        "id": "Y5piK12NmOrH"
      },
      "outputs": [],
      "source": [
        "import requests\n",
        "\n",
        "def generate_city_distances_osrm(locations):\n",
        "    num_cities = len(locations)\n",
        "    distance_matrix = np.zeros((num_cities, num_cities))\n",
        "    loc_list = list(locations.values())\n",
        "\n",
        "    for i in range(num_cities):\n",
        "        for j in range(i+1, num_cities):\n",
        "            coords_i = loc_list[i]\n",
        "            coords_j = loc_list[j]\n",
        "            response = requests.get(f\"http://router.project-osrm.org/route/v1/driving/{coords_i[1]},{coords_i[0]};{coords_j[1]},{coords_j[0]}?overview=false\")\n",
        "            data = response.json()\n",
        "            distance = data['routes'][0]['distance'] / 1000  # Convert meters to kilometers\n",
        "            distance_matrix[i][j] = distance_matrix[j][i] = distance\n",
        "\n",
        "    return distance_matrix\n"
      ]
    },
    {
      "cell_type": "code",
      "execution_count": null,
      "metadata": {
        "id": "bYzoxkdYmOrH"
      },
      "outputs": [],
      "source": [
        "def generate_city_distances_and_routes(locations):\n",
        "    num_cities = len(locations)\n",
        "    distance_matrix = np.zeros((num_cities, num_cities))\n",
        "    route_geometries = {}\n",
        "    loc_list = list(locations.values())\n",
        "\n",
        "    for i in range(num_cities):\n",
        "        for j in range(i+1, num_cities):  # Adjust loop to skip redundant calculations\n",
        "            coords_i = loc_list[i]\n",
        "            coords_j = loc_list[j]\n",
        "            response = requests.get(f\"http://router.project-osrm.org/route/v1/driving/{coords_i[1]},{coords_i[0]};{coords_j[1]},{coords_j[0]}?overview=full\")\n",
        "            data = response.json()\n",
        "            distance = data['routes'][0]['distance'] / 1000  # Convert meters to kilometers\n",
        "            distance_matrix[i][j] = distance_matrix[j][i] = distance  # Assume bidirectionality\n",
        "            route_geometries[(i, j)] = data['routes'][0]['geometry']\n",
        "            route_geometries[(j, i)] = data['routes'][0]['geometry']  # Same route in reverse\n",
        "\n",
        "    return distance_matrix, route_geometries\n"
      ]
    },
    {
      "cell_type": "code",
      "execution_count": null,
      "metadata": {
        "id": "ePeUOtw8mOrI"
      },
      "outputs": [],
      "source": [
        "import requests\n",
        "\n",
        "def generate_city_distances_and_routes(locations):\n",
        "    num_cities = len(locations)\n",
        "    distance_matrix = np.zeros((num_cities, num_cities))\n",
        "    route_geometries = {}\n",
        "    loc_list = list(locations.values())\n",
        "\n",
        "    for i in range(num_cities):\n",
        "        for j in range(i + 1, num_cities):  # Optimized to avoid redundant calculations\n",
        "            coords_i = loc_list[i]\n",
        "            coords_j = loc_list[j]\n",
        "            response = requests.get(f\"http://router.project-osrm.org/route/v1/driving/{coords_i[1]},{coords_i[0]};{coords_j[1]},{coords_j[0]}?overview=full\")\n",
        "\n",
        "            # Check if the response is valid\n",
        "            if response.status_code == 200:\n",
        "                data = response.json()\n",
        "\n",
        "                # Check if the response contains the expected data\n",
        "                if data.get('routes'):\n",
        "                    distance = data['routes'][0]['distance'] / 1000  # Convert meters to kilometers\n",
        "                    distance_matrix[i][j] = distance_matrix[j][i] = distance\n",
        "                    route_geometries[(i, j)] = route_geometries[(j, i)] = data['routes'][0]['geometry']\n",
        "                else:\n",
        "                    print(f\"Warning: No route data found for locations {i} and {j}\")\n",
        "            else:\n",
        "                print(f\"Error: OSRM API call failed for locations {i} and {j} with status code {response.status_code}\")\n",
        "\n",
        "    return distance_matrix, route_geometries\n"
      ]
    },
    {
      "cell_type": "code",
      "execution_count": null,
      "metadata": {
        "id": "ySVxwbWPmOrI"
      },
      "outputs": [],
      "source": [
        "import folium\n",
        "\n",
        "# Create a basic map\n",
        "basic_map = folium.Map(location=[59.3293, 18.0686], zoom_start=12)  # Coordinates for Stockholm\n",
        "\n",
        "# Add a marker\n",
        "folium.Marker([59.3293, 18.0686], popup='Stockholm').add_to(basic_map)\n",
        "\n",
        "# Save to HTML and try displaying in the notebook\n",
        "basic_map.save(\"basic_map_test.html\")\n",
        "basic_map\n"
      ]
    },
    {
      "cell_type": "code",
      "execution_count": null,
      "metadata": {
        "id": "-Clgwc0FmOrI"
      },
      "outputs": [],
      "source": []
    }
  ],
  "metadata": {
    "kernelspec": {
      "display_name": "Python 3",
      "language": "python",
      "name": "python3"
    },
    "language_info": {
      "codemirror_mode": {
        "name": "ipython",
        "version": 3
      },
      "file_extension": ".py",
      "mimetype": "text/x-python",
      "name": "python",
      "nbconvert_exporter": "python",
      "pygments_lexer": "ipython3",
      "version": "3.7.1"
    },
    "colab": {
      "provenance": [],
      "include_colab_link": true
    }
  },
  "nbformat": 4,
  "nbformat_minor": 0
}